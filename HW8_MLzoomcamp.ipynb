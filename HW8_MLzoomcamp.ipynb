{
 "cells": [
  {
   "cell_type": "markdown",
   "metadata": {},
   "source": [
    "## This codes were written and executed in google colab"
   ]
  },
  {
   "cell_type": "code",
   "execution_count": 48,
   "metadata": {
    "id": "fFWkbLh97LUb"
   },
   "outputs": [],
   "source": [
    "############################## HomeWork no.8 MLZoomcamp ##############################\n",
    "import numpy as np\n",
    "import matplotlib.pyplot as plt\n",
    "import tensorflow as tf\n",
    "from tensorflow.keras import datasets, layers, models\n",
    "from tensorflow.keras.preprocessing.image import ImageDataGenerator\n",
    "import os\n",
    "import shutil"
   ]
  },
  {
   "cell_type": "code",
   "execution_count": null,
   "metadata": {
    "id": "0cDJEomZ7wGG"
   },
   "outputs": [],
   "source": [
    "############################ Download Data ###############################\n",
    "!wget https://github.com/alexeygrigorev/large-datasets/releases/download/dogs-cats/train.zip\n",
    "!unzip train.zip"
   ]
  },
  {
   "cell_type": "code",
   "execution_count": 34,
   "metadata": {
    "id": "mZWmmckI_fam"
   },
   "outputs": [],
   "source": [
    "############################ Classify dataset folder ############################\n",
    "image_names = os.listdir('train')"
   ]
  },
  {
   "cell_type": "code",
   "execution_count": 35,
   "metadata": {
    "colab": {
     "base_uri": "https://localhost:8080/"
    },
    "id": "VZetCBFy_4OT",
    "outputId": "1cc420cd-e764-4673-f29d-a37e32fcf868"
   },
   "outputs": [
    {
     "data": {
      "text/plain": [
       "25000"
      ]
     },
     "execution_count": 35,
     "metadata": {},
     "output_type": "execute_result"
    }
   ],
   "source": [
    "#### Get photo numbers\n",
    "len(image_names)"
   ]
  },
  {
   "cell_type": "code",
   "execution_count": 36,
   "metadata": {
    "colab": {
     "base_uri": "https://localhost:8080/"
    },
    "id": "IGWaIfCRADJO",
    "outputId": "107e7a12-1642-4119-cdfd-1700b5fdbe2c"
   },
   "outputs": [
    {
     "data": {
      "text/plain": [
       "12500"
      ]
     },
     "execution_count": 36,
     "metadata": {},
     "output_type": "execute_result"
    }
   ],
   "source": [
    "dogs = []\n",
    "cats = []\n",
    "for name in image_names:\n",
    "  if('dog' in name):\n",
    "    dogs.append(name)\n",
    "  else :\n",
    "    cats.append(name)\n",
    "\n",
    "len(dogs)"
   ]
  },
  {
   "cell_type": "code",
   "execution_count": 38,
   "metadata": {
    "id": "1NDQRqwSBLol"
   },
   "outputs": [],
   "source": [
    "############################## Creating folders ##############################\n",
    "!mkdir Train\n",
    "!mkdir Train/dog\n",
    "!mkdir Train/cat\n",
    "!mkdir Valid\n",
    "!mkdir Valid/dog\n",
    "!mkdir Valid/cat"
   ]
  },
  {
   "cell_type": "code",
   "execution_count": 57,
   "metadata": {
    "id": "x-MJPNT9AprA"
   },
   "outputs": [],
   "source": [
    "############################## Moving images to folders ##############################\n",
    "\n",
    "## First 10000 is for training \n",
    "## the remaining 2500 is for validation\n",
    "\n",
    "## for dogs\n",
    "for i in range(0,12500):\n",
    "  if i <= 10000:\n",
    "    command = 'mv  train/' + dogs[i] + '  ./Train/dog'\n",
    "    os.system(command= command)\n",
    "  else:\n",
    "    command = 'mv  train/' + dogs[i] + '  ./Valid/dog'\n",
    "    os.system(command= command)\n",
    "\n",
    "## For cats\n",
    "for i in range(0,10000):\n",
    "  if i <= 10000:\n",
    "    command = 'mv  train/' + cats[i] + '  ./Train/cat'\n",
    "    os.system(command= command)\n",
    "  else:\n",
    "    command = 'mv  train/' + cats[i] + '  ./Valid/cat'\n",
    "    os.system(command= command)\n"
   ]
  },
  {
   "cell_type": "code",
   "execution_count": 40,
   "metadata": {
    "id": "YkT8JrFr7gyZ"
   },
   "outputs": [],
   "source": [
    "############################ CREATE MODEL ############################\n",
    "\n",
    "model = models.Sequential()\n",
    "model.add(layers.Conv2D(32, (3, 3), activation=\"relu\", input_shape=(150, 150, 3)))\n",
    "model.add(layers.MaxPooling2D((2, 2)))\n",
    "model.add(layers.Flatten())\n",
    "model.add(layers.Dense(64, activation=\"relu\"))\n",
    "model.add(layers.Dense(1, activation=\"sigmoid\"))\n",
    "optimizer = tf.keras.optimizers.SGD(learning_rate=0.002, momentum=0.8)\n",
    "loss = tf.keras.losses.BinaryCrossentropy()\n",
    "model.compile(optimizer=optimizer, loss=loss, metrics=[\"accuracy\"])"
   ]
  },
  {
   "cell_type": "markdown",
   "metadata": {
    "id": "y85Urmgh8gPy"
   },
   "source": [
    "# Question 1"
   ]
  },
  {
   "cell_type": "markdown",
   "metadata": {
    "id": "soTGni1x8l8h"
   },
   "source": [
    "For out binary classification problem **BinaryCrossentropy** is the best loss function.\n",
    "\n"
   ]
  },
  {
   "cell_type": "markdown",
   "metadata": {
    "id": "A7RUMVc38wmB"
   },
   "source": [
    "# Question 2"
   ]
  },
  {
   "cell_type": "code",
   "execution_count": 41,
   "metadata": {
    "colab": {
     "base_uri": "https://localhost:8080/"
    },
    "id": "XX9y9PzZ8yxE",
    "outputId": "b6b79aad-a041-474f-c4c2-de0e2f9132ac"
   },
   "outputs": [
    {
     "name": "stdout",
     "output_type": "stream",
     "text": [
      "Model: \"sequential_1\"\n",
      "_________________________________________________________________\n",
      " Layer (type)                Output Shape              Param #   \n",
      "=================================================================\n",
      " conv2d_1 (Conv2D)           (None, 148, 148, 32)      896       \n",
      "                                                                 \n",
      " max_pooling2d_1 (MaxPooling  (None, 74, 74, 32)       0         \n",
      " 2D)                                                             \n",
      "                                                                 \n",
      " flatten_1 (Flatten)         (None, 175232)            0         \n",
      "                                                                 \n",
      " dense_2 (Dense)             (None, 64)                11214912  \n",
      "                                                                 \n",
      " dense_3 (Dense)             (None, 1)                 65        \n",
      "                                                                 \n",
      "=================================================================\n",
      "Total params: 11,215,873\n",
      "Trainable params: 11,215,873\n",
      "Non-trainable params: 0\n",
      "_________________________________________________________________\n"
     ]
    }
   ],
   "source": [
    "model.summary()"
   ]
  },
  {
   "cell_type": "code",
   "execution_count": 59,
   "metadata": {
    "colab": {
     "base_uri": "https://localhost:8080/"
    },
    "id": "xLk8TcVG85fe",
    "outputId": "6052663f-1d02-48bf-f669-0f9d2981d2b3"
   },
   "outputs": [
    {
     "name": "stdout",
     "output_type": "stream",
     "text": [
      "Found 20001 images belonging to 2 classes.\n"
     ]
    },
    {
     "data": {
      "text/plain": [
       "{'cat': 0, 'dog': 1}"
      ]
     },
     "execution_count": 59,
     "metadata": {},
     "output_type": "execute_result"
    }
   ],
   "source": [
    "################# Get training dataset from directory ################# \n",
    "train_gen = ImageDataGenerator(rescale=1./255)\n",
    "\n",
    "train_ds = train_gen.flow_from_directory(\n",
    "    \"Train/\",\n",
    "    target_size=(150, 150),\n",
    "    batch_size=20,\n",
    "    class_mode=\"binary\",\n",
    "    shuffle=True\n",
    ")\n",
    "\n",
    "train_ds.class_indices"
   ]
  },
  {
   "cell_type": "code",
   "execution_count": 60,
   "metadata": {
    "colab": {
     "base_uri": "https://localhost:8080/"
    },
    "id": "VqL_9upy9KgF",
    "outputId": "1742c35f-03a1-4dbb-bdc8-e132969ff5a0"
   },
   "outputs": [
    {
     "name": "stdout",
     "output_type": "stream",
     "text": [
      "Found 2499 images belonging to 2 classes.\n"
     ]
    },
    {
     "data": {
      "text/plain": [
       "{'cat': 0, 'dog': 1}"
      ]
     },
     "execution_count": 60,
     "metadata": {},
     "output_type": "execute_result"
    }
   ],
   "source": [
    "################# Get validation dataset from directory ################# \n",
    "\n",
    "valid_generator = ImageDataGenerator(rescale=1./255)\n",
    "\n",
    "valid_ds = valid_generator.flow_from_directory(\n",
    "    \"./Valid/\",\n",
    "    target_size=(150, 150),\n",
    "    batch_size=20,\n",
    "    class_mode=\"binary\",\n",
    "    shuffle=True\n",
    ")\n",
    "\n",
    "valid_ds.class_indices"
   ]
  },
  {
   "cell_type": "code",
   "execution_count": 62,
   "metadata": {
    "colab": {
     "base_uri": "https://localhost:8080/"
    },
    "id": "oZk4WWIO9HUi",
    "outputId": "dd56d5e5-0650-4a8b-c2da-337096bf71a0"
   },
   "outputs": [
    {
     "name": "stdout",
     "output_type": "stream",
     "text": [
      "Epoch 1/10\n",
      "100/100 [==============================] - 42s 411ms/step - loss: 0.6935 - accuracy: 0.5175 - val_loss: 0.6123 - val_accuracy: 0.9940\n",
      "Epoch 2/10\n",
      "100/100 [==============================] - 41s 407ms/step - loss: 0.6887 - accuracy: 0.5305 - val_loss: 0.7995 - val_accuracy: 0.0570\n",
      "Epoch 3/10\n",
      "100/100 [==============================] - 41s 410ms/step - loss: 0.6845 - accuracy: 0.5485 - val_loss: 0.6436 - val_accuracy: 0.7140\n",
      "Epoch 4/10\n",
      "100/100 [==============================] - 41s 409ms/step - loss: 0.6751 - accuracy: 0.5800 - val_loss: 0.5762 - val_accuracy: 0.8710\n",
      "Epoch 5/10\n",
      "100/100 [==============================] - 41s 408ms/step - loss: 0.6736 - accuracy: 0.5725 - val_loss: 0.4229 - val_accuracy: 0.9980\n",
      "Epoch 6/10\n",
      "100/100 [==============================] - 40s 403ms/step - loss: 0.6668 - accuracy: 0.5770 - val_loss: 0.6717 - val_accuracy: 0.5360\n",
      "Epoch 7/10\n",
      "100/100 [==============================] - 41s 409ms/step - loss: 0.6584 - accuracy: 0.6025 - val_loss: 0.7800 - val_accuracy: 0.3520\n",
      "Epoch 8/10\n",
      "100/100 [==============================] - 41s 410ms/step - loss: 0.6489 - accuracy: 0.6045 - val_loss: 0.6950 - val_accuracy: 0.4930\n",
      "Epoch 9/10\n",
      "100/100 [==============================] - 41s 408ms/step - loss: 0.6408 - accuracy: 0.6175 - val_loss: 0.6934 - val_accuracy: 0.4730\n",
      "Epoch 10/10\n",
      "100/100 [==============================] - 41s 406ms/step - loss: 0.6484 - accuracy: 0.6070 - val_loss: 0.7586 - val_accuracy: 0.3820\n"
     ]
    }
   ],
   "source": [
    "################### train the model ###################\n",
    "history = model.fit(\n",
    "    train_ds,\n",
    "    steps_per_epoch=100,\n",
    "    epochs=10,\n",
    "    validation_data=valid_ds,\n",
    "    validation_steps=50\n",
    ")"
   ]
  },
  {
   "cell_type": "code",
   "execution_count": 63,
   "metadata": {
    "colab": {
     "base_uri": "https://localhost:8080/",
     "height": 265
    },
    "id": "r6fvhjomFt1b",
    "outputId": "1019192a-ccdd-4ee7-b8e0-a627c50c9772"
   },
   "outputs": [
    {
     "data": {
      "image/png": "[encoded data removed]",
      "text/plain": [
       "<Figure size 432x288 with 1 Axes>"
      ]
     },
     "metadata": {
      "needs_background": "light"
     },
     "output_type": "display_data"
    }
   ],
   "source": [
    "plt.plot(history.history[\"accuracy\"], label=\"training acc\")\n",
    "plt.plot(history.history[\"val_accuracy\"], label=\"validation acc\")\n",
    "plt.xticks(np.arange(10))\n",
    "plt.legend()\n",
    "plt.show()"
   ]
  },
  {
   "cell_type": "markdown",
   "metadata": {
    "id": "qO515os6F5KZ"
   },
   "source": [
    "# Question 3"
   ]
  },
  {
   "cell_type": "code",
   "execution_count": 64,
   "metadata": {
    "colab": {
     "base_uri": "https://localhost:8080/"
    },
    "id": "54uMMvddF60W",
    "outputId": "56701e23-3744-4499-bfa8-2bbeee2678b8"
   },
   "outputs": [
    {
     "data": {
      "text/plain": [
       "0.578"
      ]
     },
     "execution_count": 64,
     "metadata": {},
     "output_type": "execute_result"
    }
   ],
   "source": [
    "## Calculate accuracy for training history\n",
    "np.median(history.history[\"accuracy\"]).round(3)"
   ]
  },
  {
   "cell_type": "markdown",
   "metadata": {
    "id": "jPx81KWPHlIV"
   },
   "source": [
    "# Question 4"
   ]
  },
  {
   "cell_type": "code",
   "execution_count": 65,
   "metadata": {
    "colab": {
     "base_uri": "https://localhost:8080/"
    },
    "id": "LKDwEiPuHnfO",
    "outputId": "b17326be-f754-4961-ecbd-32bdd09b77e5"
   },
   "outputs": [
    {
     "data": {
      "text/plain": [
       "0.017"
      ]
     },
     "execution_count": 65,
     "metadata": {},
     "output_type": "execute_result"
    }
   ],
   "source": [
    "## Calculate standar deviation for loss values\n",
    "np.std(history.history[\"loss\"]).round(3)"
   ]
  },
  {
   "cell_type": "markdown",
   "metadata": {
    "id": "evMwI2WWH3Fe"
   },
   "source": [
    "### Data Augmentation"
   ]
  },
  {
   "cell_type": "code",
   "execution_count": 66,
   "metadata": {
    "colab": {
     "base_uri": "https://localhost:8080/"
    },
    "id": "-yW7AeExH7HO",
    "outputId": "a3356316-ce55-4493-fc5f-7c442d7bca1b"
   },
   "outputs": [
    {
     "name": "stdout",
     "output_type": "stream",
     "text": [
      "Found 20001 images belonging to 2 classes.\n"
     ]
    }
   ],
   "source": [
    "train_gen_aug = ImageDataGenerator(\n",
    "    rescale=1./255,\n",
    "    rotation_range=40,\n",
    "    width_shift_range=0.2,\n",
    "    height_shift_range=0.2,\n",
    "    shear_range=0.2,\n",
    "    zoom_range=0.2,\n",
    "    horizontal_flip=True,\n",
    "    fill_mode=\"nearest\"\n",
    ")\n",
    "\n",
    "train_ds_aug = train_gen_aug.flow_from_directory(\n",
    "    \"./Train\",\n",
    "    target_size=(150, 150),\n",
    "    batch_size=20,\n",
    "    class_mode=\"binary\",\n",
    "    shuffle=True\n",
    ")"
   ]
  },
  {
   "cell_type": "code",
   "execution_count": 68,
   "metadata": {
    "colab": {
     "base_uri": "https://localhost:8080/"
    },
    "id": "5GIrmUGXH55P",
    "outputId": "3ece66b1-d0bb-4bef-c95f-b12112a89ff2"
   },
   "outputs": [
    {
     "name": "stdout",
     "output_type": "stream",
     "text": [
      "Epoch 1/10\n",
      "100/100 [==============================] - 49s 492ms/step - loss: 0.6652 - accuracy: 0.5960 - val_loss: 0.6230 - val_accuracy: 0.6080\n",
      "Epoch 2/10\n",
      "100/100 [==============================] - 49s 491ms/step - loss: 0.6640 - accuracy: 0.5850 - val_loss: 0.5358 - val_accuracy: 0.7710\n",
      "Epoch 3/10\n",
      "100/100 [==============================] - 49s 491ms/step - loss: 0.6597 - accuracy: 0.5905 - val_loss: 0.5436 - val_accuracy: 0.7790\n",
      "Epoch 4/10\n",
      "100/100 [==============================] - 49s 490ms/step - loss: 0.6626 - accuracy: 0.5985 - val_loss: 0.5217 - val_accuracy: 0.8250\n",
      "Epoch 5/10\n",
      "100/100 [==============================] - 49s 490ms/step - loss: 0.6570 - accuracy: 0.5945 - val_loss: 0.6478 - val_accuracy: 0.5370\n",
      "Epoch 6/10\n",
      "100/100 [==============================] - 49s 490ms/step - loss: 0.6486 - accuracy: 0.5980 - val_loss: 0.6054 - val_accuracy: 0.5960\n",
      "Epoch 7/10\n",
      "100/100 [==============================] - 49s 491ms/step - loss: 0.6527 - accuracy: 0.6230 - val_loss: 0.5414 - val_accuracy: 0.7330\n",
      "Epoch 8/10\n",
      "100/100 [==============================] - 49s 489ms/step - loss: 0.6600 - accuracy: 0.6080 - val_loss: 0.5457 - val_accuracy: 0.7280\n",
      "Epoch 9/10\n",
      "100/100 [==============================] - 49s 489ms/step - loss: 0.6461 - accuracy: 0.6165 - val_loss: 0.4712 - val_accuracy: 0.8070\n",
      "Epoch 10/10\n",
      "100/100 [==============================] - 49s 488ms/step - loss: 0.6495 - accuracy: 0.6100 - val_loss: 0.5125 - val_accuracy: 0.7950\n"
     ]
    }
   ],
   "source": [
    "### Try training using augemted data\n",
    "augmented_history = model.fit(\n",
    "    train_ds_aug,\n",
    "    steps_per_epoch=100,\n",
    "    epochs=10,\n",
    "    validation_data=valid_ds,\n",
    "    validation_steps=50\n",
    ")"
   ]
  },
  {
   "cell_type": "markdown",
   "metadata": {
    "id": "OSWoSYgQIL9K"
   },
   "source": [
    "# Question 5"
   ]
  },
  {
   "cell_type": "code",
   "execution_count": 70,
   "metadata": {
    "colab": {
     "base_uri": "https://localhost:8080/"
    },
    "id": "MsAeRpO3IPq1",
    "outputId": "2f692dd6-ce63-4827-c99a-bbbad4036105"
   },
   "outputs": [
    {
     "data": {
      "text/plain": [
       "0.555"
      ]
     },
     "execution_count": 70,
     "metadata": {},
     "output_type": "execute_result"
    }
   ],
   "source": [
    "np.mean(augmented_history.history[\"val_loss\"]).round(3)"
   ]
  },
  {
   "cell_type": "markdown",
   "metadata": {
    "id": "P9Nz5iO0IS8W"
   },
   "source": [
    "# Question 6"
   ]
  },
  {
   "cell_type": "code",
   "execution_count": 71,
   "metadata": {
    "colab": {
     "base_uri": "https://localhost:8080/"
    },
    "id": "V4OIkmZyIUc4",
    "outputId": "c786280a-1ad1-4ad7-c14a-c2c851165a44"
   },
   "outputs": [
    {
     "data": {
      "text/plain": [
       "0.732"
      ]
     },
     "execution_count": 71,
     "metadata": {},
     "output_type": "execute_result"
    }
   ],
   "source": [
    "np.mean(augmented_history.history[\"val_accuracy\"][5:]).round(3)\n"
   ]
  }
 ],
 "metadata": {
  "colab": {
   "collapsed_sections": [],
   "name": "HW8_MLzoomcamp.ipynb",
   "provenance": []
  },
  "kernelspec": {
   "display_name": "Python 3 (ipykernel)",
   "language": "python",
   "name": "python3"
  },
  "language_info": {
   "codemirror_mode": {
    "name": "ipython",
    "version": 3
   },
   "file_extension": ".py",
   "mimetype": "text/x-python",
   "name": "python",
   "nbconvert_exporter": "python",
   "pygments_lexer": "ipython3",
   "version": "3.8.10"
  }
 },
 "nbformat": 4,
 "nbformat_minor": 4
}
